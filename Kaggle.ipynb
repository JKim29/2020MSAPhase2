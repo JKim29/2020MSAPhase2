{
 "cells": [
  {
   "cell_type": "code",
   "execution_count": 1,
   "metadata": {
    "_cell_guid": "b1076dfc-b9ad-4769-8c92-a6c4dae69d19",
    "_uuid": "8f2839f25d086af736a60e9eeb907d3b93b6e0e5",
    "execution": {
     "iopub.execute_input": "2020-09-16T22:04:59.857776Z",
     "iopub.status.busy": "2020-09-16T22:04:59.857004Z",
     "iopub.status.idle": "2020-09-16T22:05:01.948981Z",
     "shell.execute_reply": "2020-09-16T22:05:01.949859Z"
    },
    "papermill": {
     "duration": 2.112179,
     "end_time": "2020-09-16T22:05:01.950130",
     "exception": false,
     "start_time": "2020-09-16T22:04:59.837951",
     "status": "completed"
    },
    "tags": []
   },
   "outputs": [
    {
     "name": "stdout",
     "output_type": "stream",
     "text": [
      "/kaggle/input/sentiment-analysis-msa-phase-2/train.csv\n",
      "/kaggle/input/sentiment-analysis-msa-phase-2/test.csv\n",
      "/kaggle/input/sentiment-analysis-msa-phase-2/sample_submission.csv\n"
     ]
    }
   ],
   "source": [
    "import numpy as np\n",
    "import pandas as pd\n",
    "import os\n",
    "import nltk\n",
    "import re\n",
    "\n",
    "for dirname, _, filenames in os.walk('/kaggle/input'):\n",
    "    for filename in filenames:\n",
    "        print(os.path.join(dirname, filename))\n",
    "\n",
    "# You can write up to 5GB to the current directory (/kaggle/working/) that gets preserved as output when you create a version using \"Save & Run All\" \n",
    "# You can also write temporary files to /kaggle/temp/, but they won't be saved outside of the current session"
   ]
  },
  {
   "source": [
    "Reading in the data files"
   ],
   "cell_type": "markdown",
   "metadata": {}
  },
  {
   "cell_type": "code",
   "execution_count": 2,
   "metadata": {
    "_cell_guid": "79c7e3d0-c299-4dcb-8224-4455121ee9b0",
    "_uuid": "d629ff2d2480ee46fbb7e2d37f6b5fab8052498a",
    "execution": {
     "iopub.execute_input": "2020-09-16T22:05:01.975395Z",
     "iopub.status.busy": "2020-09-16T22:05:01.974583Z",
     "iopub.status.idle": "2020-09-16T22:05:02.104310Z",
     "shell.execute_reply": "2020-09-16T22:05:02.103715Z"
    },
    "papermill": {
     "duration": 0.142912,
     "end_time": "2020-09-16T22:05:02.104443",
     "exception": false,
     "start_time": "2020-09-16T22:05:01.961531",
     "status": "completed"
    },
    "tags": []
   },
   "outputs": [
    {
     "data": {
      "text/html": [
       "<div>\n",
       "<style scoped>\n",
       "    .dataframe tbody tr th:only-of-type {\n",
       "        vertical-align: middle;\n",
       "    }\n",
       "\n",
       "    .dataframe tbody tr th {\n",
       "        vertical-align: top;\n",
       "    }\n",
       "\n",
       "    .dataframe thead th {\n",
       "        text-align: right;\n",
       "    }\n",
       "</style>\n",
       "<table border=\"1\" class=\"dataframe\">\n",
       "  <thead>\n",
       "    <tr style=\"text-align: right;\">\n",
       "      <th></th>\n",
       "      <th>textID</th>\n",
       "      <th>text</th>\n",
       "      <th>sentiment</th>\n",
       "    </tr>\n",
       "  </thead>\n",
       "  <tbody>\n",
       "    <tr>\n",
       "      <th>0</th>\n",
       "      <td>cb774db0d1</td>\n",
       "      <td>I`d have responded, if I were going</td>\n",
       "      <td>neutral</td>\n",
       "    </tr>\n",
       "    <tr>\n",
       "      <th>1</th>\n",
       "      <td>549e992a42</td>\n",
       "      <td>Sooo SAD I will miss you here in San Diego!!!</td>\n",
       "      <td>negative</td>\n",
       "    </tr>\n",
       "    <tr>\n",
       "      <th>2</th>\n",
       "      <td>088c60f138</td>\n",
       "      <td>my boss is bullying me...</td>\n",
       "      <td>negative</td>\n",
       "    </tr>\n",
       "    <tr>\n",
       "      <th>3</th>\n",
       "      <td>9642c003ef</td>\n",
       "      <td>what interview! leave me alone</td>\n",
       "      <td>negative</td>\n",
       "    </tr>\n",
       "    <tr>\n",
       "      <th>4</th>\n",
       "      <td>358bd9e861</td>\n",
       "      <td>Sons of ****, why couldn`t they put them on t...</td>\n",
       "      <td>negative</td>\n",
       "    </tr>\n",
       "  </tbody>\n",
       "</table>\n",
       "</div>"
      ],
      "text/plain": [
       "       textID                                               text sentiment\n",
       "0  cb774db0d1                I`d have responded, if I were going   neutral\n",
       "1  549e992a42      Sooo SAD I will miss you here in San Diego!!!  negative\n",
       "2  088c60f138                          my boss is bullying me...  negative\n",
       "3  9642c003ef                     what interview! leave me alone  negative\n",
       "4  358bd9e861   Sons of ****, why couldn`t they put them on t...  negative"
      ]
     },
     "execution_count": 2,
     "metadata": {},
     "output_type": "execute_result"
    }
   ],
   "source": [
    "train_set = pd.read_csv(\"/kaggle/input/sentiment-analysis-msa-phase-2/train.csv\")\n",
    "train_set.head()"
   ]
  },
  {
   "cell_type": "code",
   "execution_count": 3,
   "metadata": {
    "execution": {
     "iopub.execute_input": "2020-09-16T22:05:02.132670Z",
     "iopub.status.busy": "2020-09-16T22:05:02.131903Z",
     "iopub.status.idle": "2020-09-16T22:05:02.155537Z",
     "shell.execute_reply": "2020-09-16T22:05:02.156040Z"
    },
    "papermill": {
     "duration": 0.04035,
     "end_time": "2020-09-16T22:05:02.156198",
     "exception": false,
     "start_time": "2020-09-16T22:05:02.115848",
     "status": "completed"
    },
    "tags": []
   },
   "outputs": [
    {
     "data": {
      "text/html": [
       "<div>\n",
       "<style scoped>\n",
       "    .dataframe tbody tr th:only-of-type {\n",
       "        vertical-align: middle;\n",
       "    }\n",
       "\n",
       "    .dataframe tbody tr th {\n",
       "        vertical-align: top;\n",
       "    }\n",
       "\n",
       "    .dataframe thead th {\n",
       "        text-align: right;\n",
       "    }\n",
       "</style>\n",
       "<table border=\"1\" class=\"dataframe\">\n",
       "  <thead>\n",
       "    <tr style=\"text-align: right;\">\n",
       "      <th></th>\n",
       "      <th>textID</th>\n",
       "      <th>text</th>\n",
       "    </tr>\n",
       "  </thead>\n",
       "  <tbody>\n",
       "    <tr>\n",
       "      <th>0</th>\n",
       "      <td>f87dea47db</td>\n",
       "      <td>Last session of the day  http://twitpic.com/67ezh</td>\n",
       "    </tr>\n",
       "    <tr>\n",
       "      <th>1</th>\n",
       "      <td>96d74cb729</td>\n",
       "      <td>Shanghai is also really exciting (precisely -...</td>\n",
       "    </tr>\n",
       "    <tr>\n",
       "      <th>2</th>\n",
       "      <td>eee518ae67</td>\n",
       "      <td>Recession hit Veronique Branquinho, she has to...</td>\n",
       "    </tr>\n",
       "    <tr>\n",
       "      <th>3</th>\n",
       "      <td>01082688c6</td>\n",
       "      <td>happy bday!</td>\n",
       "    </tr>\n",
       "    <tr>\n",
       "      <th>4</th>\n",
       "      <td>33987a8ee5</td>\n",
       "      <td>http://twitpic.com/4w75p - I like it!!</td>\n",
       "    </tr>\n",
       "  </tbody>\n",
       "</table>\n",
       "</div>"
      ],
      "text/plain": [
       "       textID                                               text\n",
       "0  f87dea47db  Last session of the day  http://twitpic.com/67ezh\n",
       "1  96d74cb729   Shanghai is also really exciting (precisely -...\n",
       "2  eee518ae67  Recession hit Veronique Branquinho, she has to...\n",
       "3  01082688c6                                        happy bday!\n",
       "4  33987a8ee5             http://twitpic.com/4w75p - I like it!!"
      ]
     },
     "execution_count": 3,
     "metadata": {},
     "output_type": "execute_result"
    }
   ],
   "source": [
    "test_set = pd.read_csv(\"/kaggle/input/sentiment-analysis-msa-phase-2/test.csv\")\n",
    "test_set.head()"
   ]
  },
  {
   "source": [
    "Removing all the links and tokenizing the words"
   ],
   "cell_type": "markdown",
   "metadata": {}
  },
  {
   "cell_type": "code",
   "execution_count": 4,
   "metadata": {
    "execution": {
     "iopub.execute_input": "2020-09-16T22:05:02.187690Z",
     "iopub.status.busy": "2020-09-16T22:05:02.186866Z",
     "iopub.status.idle": "2020-09-16T22:05:11.121993Z",
     "shell.execute_reply": "2020-09-16T22:05:11.121337Z"
    },
    "papermill": {
     "duration": 8.954622,
     "end_time": "2020-09-16T22:05:11.122116",
     "exception": false,
     "start_time": "2020-09-16T22:05:02.167494",
     "status": "completed"
    },
    "tags": []
   },
   "outputs": [],
   "source": [
    "train_set.text = train_set.text.apply(lambda x: re.sub(r'\\(?http\\S+', '', str(x)))\n",
    "train_set.text = train_set.text.apply(lambda x: ' '.join(nltk.word_tokenize(x)))\n",
    "\n",
    "test_set.text = test_set.text.apply(lambda x: re.sub(r'\\(?http\\S+', '', str(x)))\n",
    "test_set.text = test_set.text.apply(lambda x: ' '.join(nltk.word_tokenize(x)))"
   ]
  },
  {
   "cell_type": "code",
   "execution_count": 5,
   "metadata": {
    "execution": {
     "iopub.execute_input": "2020-09-16T22:05:11.167706Z",
     "iopub.status.busy": "2020-09-16T22:05:11.162686Z",
     "iopub.status.idle": "2020-09-16T22:05:11.193554Z",
     "shell.execute_reply": "2020-09-16T22:05:11.192862Z"
    },
    "papermill": {
     "duration": 0.059787,
     "end_time": "2020-09-16T22:05:11.193675",
     "exception": false,
     "start_time": "2020-09-16T22:05:11.133888",
     "status": "completed"
    },
    "tags": []
   },
   "outputs": [
    {
     "data": {
      "text/html": [
       "<div>\n",
       "<style scoped>\n",
       "    .dataframe tbody tr th:only-of-type {\n",
       "        vertical-align: middle;\n",
       "    }\n",
       "\n",
       "    .dataframe tbody tr th {\n",
       "        vertical-align: top;\n",
       "    }\n",
       "\n",
       "    .dataframe thead th {\n",
       "        text-align: right;\n",
       "    }\n",
       "</style>\n",
       "<table border=\"1\" class=\"dataframe\">\n",
       "  <thead>\n",
       "    <tr style=\"text-align: right;\">\n",
       "      <th></th>\n",
       "      <th>textID</th>\n",
       "      <th>text</th>\n",
       "      <th>sentiment</th>\n",
       "    </tr>\n",
       "  </thead>\n",
       "  <tbody>\n",
       "    <tr>\n",
       "      <th>0</th>\n",
       "      <td>cb774db0d1</td>\n",
       "      <td>I`d have responded , if I were going</td>\n",
       "      <td>1</td>\n",
       "    </tr>\n",
       "    <tr>\n",
       "      <th>1</th>\n",
       "      <td>549e992a42</td>\n",
       "      <td>Sooo SAD I will miss you here in San Diego ! ! !</td>\n",
       "      <td>0</td>\n",
       "    </tr>\n",
       "    <tr>\n",
       "      <th>2</th>\n",
       "      <td>088c60f138</td>\n",
       "      <td>my boss is bullying me ...</td>\n",
       "      <td>0</td>\n",
       "    </tr>\n",
       "    <tr>\n",
       "      <th>3</th>\n",
       "      <td>9642c003ef</td>\n",
       "      <td>what interview ! leave me alone</td>\n",
       "      <td>0</td>\n",
       "    </tr>\n",
       "    <tr>\n",
       "      <th>4</th>\n",
       "      <td>358bd9e861</td>\n",
       "      <td>Sons of **** , why couldn`t they put them on t...</td>\n",
       "      <td>0</td>\n",
       "    </tr>\n",
       "  </tbody>\n",
       "</table>\n",
       "</div>"
      ],
      "text/plain": [
       "       textID                                               text  sentiment\n",
       "0  cb774db0d1               I`d have responded , if I were going          1\n",
       "1  549e992a42   Sooo SAD I will miss you here in San Diego ! ! !          0\n",
       "2  088c60f138                         my boss is bullying me ...          0\n",
       "3  9642c003ef                    what interview ! leave me alone          0\n",
       "4  358bd9e861  Sons of **** , why couldn`t they put them on t...          0"
      ]
     },
     "execution_count": 5,
     "metadata": {},
     "output_type": "execute_result"
    }
   ],
   "source": [
    "def toValue(sentiment):\n",
    "    if sentiment == \"negative\":\n",
    "        return 0\n",
    "    elif sentiment == \"neutral\":\n",
    "        return 1\n",
    "    else:\n",
    "        return 2\n",
    "\n",
    "train_set.sentiment = train_set.sentiment.apply(lambda x: toValue(str(x)))\n",
    "train_set.head()"
   ]
  },
  {
   "cell_type": "code",
   "execution_count": 6,
   "metadata": {
    "execution": {
     "iopub.execute_input": "2020-09-16T22:05:11.224265Z",
     "iopub.status.busy": "2020-09-16T22:05:11.223561Z",
     "iopub.status.idle": "2020-09-16T22:05:11.231331Z",
     "shell.execute_reply": "2020-09-16T22:05:11.231861Z"
    },
    "papermill": {
     "duration": 0.026257,
     "end_time": "2020-09-16T22:05:11.232066",
     "exception": false,
     "start_time": "2020-09-16T22:05:11.205809",
     "status": "completed"
    },
    "tags": []
   },
   "outputs": [
    {
     "data": {
      "text/plain": [
       "1    11118\n",
       "2     8582\n",
       "0     7781\n",
       "Name: sentiment, dtype: int64"
      ]
     },
     "execution_count": 6,
     "metadata": {},
     "output_type": "execute_result"
    }
   ],
   "source": [
    "train_set.sentiment.value_counts()"
   ]
  },
  {
   "cell_type": "code",
   "execution_count": 7,
   "metadata": {
    "execution": {
     "iopub.execute_input": "2020-09-16T22:05:11.260951Z",
     "iopub.status.busy": "2020-09-16T22:05:11.260106Z",
     "iopub.status.idle": "2020-09-16T22:05:11.876576Z",
     "shell.execute_reply": "2020-09-16T22:05:11.877230Z"
    },
    "papermill": {
     "duration": 0.632714,
     "end_time": "2020-09-16T22:05:11.877389",
     "exception": false,
     "start_time": "2020-09-16T22:05:11.244675",
     "status": "completed"
    },
    "tags": []
   },
   "outputs": [],
   "source": [
    "from sklearn.feature_extraction.text import CountVectorizer\n",
    "from nltk.tokenize import RegexpTokenizer\n",
    "\n",
    "token = RegexpTokenizer(r'[a-zA-Z0-9]+')\n",
    "cv = CountVectorizer(lowercase=True,stop_words='english')\n",
    "text_counts = cv.fit_transform(train_set.text)"
   ]
  },
  {
   "cell_type": "code",
   "execution_count": 8,
   "metadata": {
    "execution": {
     "iopub.execute_input": "2020-09-16T22:05:11.915332Z",
     "iopub.status.busy": "2020-09-16T22:05:11.914497Z",
     "iopub.status.idle": "2020-09-16T22:05:11.922182Z",
     "shell.execute_reply": "2020-09-16T22:05:11.921606Z"
    },
    "papermill": {
     "duration": 0.030656,
     "end_time": "2020-09-16T22:05:11.922306",
     "exception": false,
     "start_time": "2020-09-16T22:05:11.891650",
     "status": "completed"
    },
    "tags": []
   },
   "outputs": [],
   "source": [
    "from sklearn.model_selection import train_test_split\n",
    "X_train, X_testasdf, y_train, y_test = train_test_split(\n",
    "    text_counts, train_set['sentiment'], test_size=0.3, random_state=10)"
   ]
  },
  {
   "cell_type": "code",
   "execution_count": 9,
   "metadata": {
    "execution": {
     "iopub.execute_input": "2020-09-16T22:05:11.951619Z",
     "iopub.status.busy": "2020-09-16T22:05:11.950889Z",
     "iopub.status.idle": "2020-09-16T22:05:12.048055Z",
     "shell.execute_reply": "2020-09-16T22:05:12.047290Z"
    },
    "papermill": {
     "duration": 0.113002,
     "end_time": "2020-09-16T22:05:12.048196",
     "exception": false,
     "start_time": "2020-09-16T22:05:11.935194",
     "status": "completed"
    },
    "tags": []
   },
   "outputs": [],
   "source": [
    "from sklearn.naive_bayes import MultinomialNB\n",
    "from sklearn import metrics\n",
    "\n",
    "X_test = cv.transform(test_set.text)\n",
    "\n",
    "clf = MultinomialNB().fit(text_counts, train_set.sentiment)\n",
    "predicted = clf.predict(X_test)"
   ]
  },
  {
   "cell_type": "code",
   "execution_count": 10,
   "metadata": {
    "execution": {
     "iopub.execute_input": "2020-09-16T22:05:12.089727Z",
     "iopub.status.busy": "2020-09-16T22:05:12.088935Z",
     "iopub.status.idle": "2020-09-16T22:05:12.092892Z",
     "shell.execute_reply": "2020-09-16T22:05:12.093390Z"
    },
    "papermill": {
     "duration": 0.031924,
     "end_time": "2020-09-16T22:05:12.093548",
     "exception": false,
     "start_time": "2020-09-16T22:05:12.061624",
     "status": "completed"
    },
    "tags": []
   },
   "outputs": [
    {
     "data": {
      "text/html": [
       "<div>\n",
       "<style scoped>\n",
       "    .dataframe tbody tr th:only-of-type {\n",
       "        vertical-align: middle;\n",
       "    }\n",
       "\n",
       "    .dataframe tbody tr th {\n",
       "        vertical-align: top;\n",
       "    }\n",
       "\n",
       "    .dataframe thead th {\n",
       "        text-align: right;\n",
       "    }\n",
       "</style>\n",
       "<table border=\"1\" class=\"dataframe\">\n",
       "  <thead>\n",
       "    <tr style=\"text-align: right;\">\n",
       "      <th></th>\n",
       "      <th>textID</th>\n",
       "      <th>sentiment</th>\n",
       "    </tr>\n",
       "  </thead>\n",
       "  <tbody>\n",
       "    <tr>\n",
       "      <th>0</th>\n",
       "      <td>f87dea47db</td>\n",
       "      <td>2</td>\n",
       "    </tr>\n",
       "    <tr>\n",
       "      <th>1</th>\n",
       "      <td>96d74cb729</td>\n",
       "      <td>2</td>\n",
       "    </tr>\n",
       "    <tr>\n",
       "      <th>2</th>\n",
       "      <td>eee518ae67</td>\n",
       "      <td>0</td>\n",
       "    </tr>\n",
       "    <tr>\n",
       "      <th>3</th>\n",
       "      <td>01082688c6</td>\n",
       "      <td>2</td>\n",
       "    </tr>\n",
       "    <tr>\n",
       "      <th>4</th>\n",
       "      <td>33987a8ee5</td>\n",
       "      <td>1</td>\n",
       "    </tr>\n",
       "  </tbody>\n",
       "</table>\n",
       "</div>"
      ],
      "text/plain": [
       "       textID  sentiment\n",
       "0  f87dea47db          2\n",
       "1  96d74cb729          2\n",
       "2  eee518ae67          0\n",
       "3  01082688c6          2\n",
       "4  33987a8ee5          1"
      ]
     },
     "execution_count": 10,
     "metadata": {},
     "output_type": "execute_result"
    }
   ],
   "source": [
    "data = {\"textID\" : test_set.textID,\n",
    "        \"sentiment\" : predicted}\n",
    "final = pd.DataFrame(data, columns = [\"textID\", \"sentiment\"])\n",
    "final.head()"
   ]
  },
  {
   "cell_type": "code",
   "execution_count": 11,
   "metadata": {
    "execution": {
     "iopub.execute_input": "2020-09-16T22:05:12.125266Z",
     "iopub.status.busy": "2020-09-16T22:05:12.124189Z",
     "iopub.status.idle": "2020-09-16T22:05:12.141988Z",
     "shell.execute_reply": "2020-09-16T22:05:12.141171Z"
    },
    "papermill": {
     "duration": 0.035026,
     "end_time": "2020-09-16T22:05:12.142121",
     "exception": false,
     "start_time": "2020-09-16T22:05:12.107095",
     "status": "completed"
    },
    "tags": []
   },
   "outputs": [
    {
     "data": {
      "text/html": [
       "<div>\n",
       "<style scoped>\n",
       "    .dataframe tbody tr th:only-of-type {\n",
       "        vertical-align: middle;\n",
       "    }\n",
       "\n",
       "    .dataframe tbody tr th {\n",
       "        vertical-align: top;\n",
       "    }\n",
       "\n",
       "    .dataframe thead th {\n",
       "        text-align: right;\n",
       "    }\n",
       "</style>\n",
       "<table border=\"1\" class=\"dataframe\">\n",
       "  <thead>\n",
       "    <tr style=\"text-align: right;\">\n",
       "      <th></th>\n",
       "      <th>textID</th>\n",
       "      <th>sentiment</th>\n",
       "    </tr>\n",
       "  </thead>\n",
       "  <tbody>\n",
       "    <tr>\n",
       "      <th>0</th>\n",
       "      <td>f87dea47db</td>\n",
       "      <td>positive</td>\n",
       "    </tr>\n",
       "    <tr>\n",
       "      <th>1</th>\n",
       "      <td>96d74cb729</td>\n",
       "      <td>positive</td>\n",
       "    </tr>\n",
       "    <tr>\n",
       "      <th>2</th>\n",
       "      <td>eee518ae67</td>\n",
       "      <td>negative</td>\n",
       "    </tr>\n",
       "    <tr>\n",
       "      <th>3</th>\n",
       "      <td>01082688c6</td>\n",
       "      <td>positive</td>\n",
       "    </tr>\n",
       "    <tr>\n",
       "      <th>4</th>\n",
       "      <td>33987a8ee5</td>\n",
       "      <td>neutral</td>\n",
       "    </tr>\n",
       "  </tbody>\n",
       "</table>\n",
       "</div>"
      ],
      "text/plain": [
       "       textID sentiment\n",
       "0  f87dea47db  positive\n",
       "1  96d74cb729  positive\n",
       "2  eee518ae67  negative\n",
       "3  01082688c6  positive\n",
       "4  33987a8ee5   neutral"
      ]
     },
     "execution_count": 11,
     "metadata": {},
     "output_type": "execute_result"
    }
   ],
   "source": [
    "def toSentimentValue(x):\n",
    "    if x == \"0\":\n",
    "        return \"negative\"\n",
    "    elif x == \"1\":\n",
    "        return \"neutral\"\n",
    "    else:\n",
    "        return \"positive\"\n",
    "\n",
    "final.sentiment = final.sentiment.apply(lambda x: toSentimentValue(str(x)))\n",
    "final.head()"
   ]
  },
  {
   "cell_type": "code",
   "execution_count": 12,
   "metadata": {
    "execution": {
     "iopub.execute_input": "2020-09-16T22:05:12.176382Z",
     "iopub.status.busy": "2020-09-16T22:05:12.175603Z",
     "iopub.status.idle": "2020-09-16T22:05:12.507709Z",
     "shell.execute_reply": "2020-09-16T22:05:12.508347Z"
    },
    "papermill": {
     "duration": 0.351647,
     "end_time": "2020-09-16T22:05:12.508526",
     "exception": false,
     "start_time": "2020-09-16T22:05:12.156879",
     "status": "completed"
    },
    "tags": []
   },
   "outputs": [],
   "source": [
    "final.to_csv(\"/kaggle/working/output.csv\", index=False)"
   ]
  },
  {
   "cell_type": "code",
   "execution_count": null,
   "metadata": {
    "papermill": {
     "duration": 0.014087,
     "end_time": "2020-09-16T22:05:12.538009",
     "exception": false,
     "start_time": "2020-09-16T22:05:12.523922",
     "status": "completed"
    },
    "tags": []
   },
   "outputs": [],
   "source": []
  }
 ],
 "metadata": {
  "kernelspec": {
   "display_name": "Python 3",
   "language": "python",
   "name": "python3"
  },
  "language_info": {
   "codemirror_mode": {
    "name": "ipython",
    "version": 3
   },
   "file_extension": ".py",
   "mimetype": "text/x-python",
   "name": "python",
   "nbconvert_exporter": "python",
   "pygments_lexer": "ipython3",
   "version": "3.7.6"
  },
  "papermill": {
   "duration": 18.075034,
   "end_time": "2020-09-16T22:05:12.660552",
   "environment_variables": {},
   "exception": null,
   "input_path": "__notebook__.ipynb",
   "output_path": "__notebook__.ipynb",
   "parameters": {},
   "start_time": "2020-09-16T22:04:54.585518",
   "version": "2.1.0"
  }
 },
 "nbformat": 4,
 "nbformat_minor": 4
}